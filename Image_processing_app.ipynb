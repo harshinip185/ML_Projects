{
  "nbformat": 4,
  "nbformat_minor": 0,
  "metadata": {
    "colab": {
      "provenance": [],
      "authorship_tag": "ABX9TyNj0Da9DUsVd0c0HmbS2nTI",
      "include_colab_link": true
    },
    "kernelspec": {
      "name": "python3",
      "display_name": "Python 3"
    },
    "language_info": {
      "name": "python"
    }
  },
  "cells": [
    {
      "cell_type": "markdown",
      "metadata": {
        "id": "view-in-github",
        "colab_type": "text"
      },
      "source": [
        "<a href=\"https://colab.research.google.com/github/harshinip185/ML_Projects/blob/main/Image_processing_app.ipynb\" target=\"_parent\"><img src=\"https://colab.research.google.com/assets/colab-badge.svg\" alt=\"Open In Colab\"/></a>"
      ]
    },
    {
      "cell_type": "markdown",
      "source": [
        "# Image Processing App\n",
        "\n",
        "## Description\n",
        "This is a simple image processing application built using Python and Gradio in Google Colab. The application allows users to upload an image and apply various image processing techniques such as:\n",
        "- **Grayscale Conversion**: Converts the image to grayscale.\n",
        "- **Blurring**: Applies Gaussian blur to the image.\n",
        "- **Edge Detection**: Detects edges in the image using the Canny edge detection algorithm.\n",
        "\n",
        "This notebook contains all the necessary details, including installation steps, code, and usage instructions.\n"
      ],
      "metadata": {
        "id": "tIoQnkQm7Eph"
      }
    },
    {
      "cell_type": "code",
      "execution_count": 2,
      "metadata": {
        "colab": {
          "base_uri": "https://localhost:8080/"
        },
        "collapsed": true,
        "id": "OgxCgJ7xuV87",
        "outputId": "1c764277-3d6f-46c1-c1f0-b642bc696066"
      },
      "outputs": [
        {
          "output_type": "stream",
          "name": "stdout",
          "text": [
            "\u001b[2K   \u001b[90m━━━━━━━━━━━━━━━━━━━━━━━━━━━━━━━━━━━━━━━━\u001b[0m \u001b[32m62.2/62.2 MB\u001b[0m \u001b[31m9.4 MB/s\u001b[0m eta \u001b[36m0:00:00\u001b[0m\n",
            "\u001b[2K   \u001b[90m━━━━━━━━━━━━━━━━━━━━━━━━━━━━━━━━━━━━━━━━\u001b[0m \u001b[32m321.9/321.9 kB\u001b[0m \u001b[31m6.6 MB/s\u001b[0m eta \u001b[36m0:00:00\u001b[0m\n",
            "\u001b[2K   \u001b[90m━━━━━━━━━━━━━━━━━━━━━━━━━━━━━━━━━━━━━━━━\u001b[0m \u001b[32m94.8/94.8 kB\u001b[0m \u001b[31m5.9 MB/s\u001b[0m eta \u001b[36m0:00:00\u001b[0m\n",
            "\u001b[2K   \u001b[90m━━━━━━━━━━━━━━━━━━━━━━━━━━━━━━━━━━━━━━━━\u001b[0m \u001b[32m12.5/12.5 MB\u001b[0m \u001b[31m31.5 MB/s\u001b[0m eta \u001b[36m0:00:00\u001b[0m\n",
            "\u001b[2K   \u001b[90m━━━━━━━━━━━━━━━━━━━━━━━━━━━━━━━━━━━━━━━━\u001b[0m \u001b[32m71.5/71.5 kB\u001b[0m \u001b[31m3.9 MB/s\u001b[0m eta \u001b[36m0:00:00\u001b[0m\n",
            "\u001b[2K   \u001b[90m━━━━━━━━━━━━━━━━━━━━━━━━━━━━━━━━━━━━━━━━\u001b[0m \u001b[32m62.3/62.3 kB\u001b[0m \u001b[31m3.5 MB/s\u001b[0m eta \u001b[36m0:00:00\u001b[0m\n",
            "\u001b[?25h"
          ]
        }
      ],
      "source": [
        "!pip install gradio --quiet"
      ]
    },
    {
      "cell_type": "markdown",
      "source": [
        "### Importing necessary Libraries"
      ],
      "metadata": {
        "id": "O7phwqXM4jjY"
      }
    },
    {
      "cell_type": "code",
      "source": [
        "import cv2 # OpenCV for image processing\n",
        "import numpy as np # for numerical operations\n",
        "import torch # for tensor operations\n",
        "import gradio as gr # for GUI\n",
        "from PIL import Image # PIL for image handling"
      ],
      "metadata": {
        "id": "Px5WCvmku2ec"
      },
      "execution_count": 3,
      "outputs": []
    },
    {
      "cell_type": "markdown",
      "source": [
        "### Processing Functions"
      ],
      "metadata": {
        "id": "JPENn8z04ud-"
      }
    },
    {
      "cell_type": "code",
      "source": [
        "def apply_grayscale(image):\n",
        "\n",
        "  \"\"\"\n",
        "  Converts the input image into Grayscale image\n",
        "  \"\"\"\n",
        "\n",
        "  image = np.array(image) # converting the PIL image into numpy array\n",
        "  gray_image = cv2.cvtColor(image, cv2.COLOR_BGR2GRAY) # converting the image into grayscale\n",
        "  return Image.fromarray(gray_image) # returning the grayscale image\n",
        "\n",
        "def apply_blur(image):\n",
        "    \"\"\"\n",
        "    Applies blur to the input image\n",
        "    \"\"\"\n",
        "    image = np.array(image) # converting the PIL image into numpy array\n",
        "    blur_image = cv2.GaussianBlur(image, (20, 20), 0) # applying blur to the image\n",
        "    return Image.fromarray(blur_image) # returning the blurred image\n",
        "\n",
        "def apply_edges(image):\n",
        "    \"\"\"\n",
        "    Applies edge detection to the input image\n",
        "    \"\"\"\n",
        "    image = np.array(image) # converting the PIL image into numpy array\n",
        "    gray = cv2.cvtColor(image, cv2.COLOR_BGR2GRAY) # converting the image into grayscale\n",
        "    edges = cv2.Canny(gray, 100, 200) # applying edge detection to the image\n",
        "    return Image.fromarray(edges) # returning the edge detected\n"
      ],
      "metadata": {
        "id": "_eyNHAvpvZ1v"
      },
      "execution_count": 9,
      "outputs": []
    },
    {
      "cell_type": "markdown",
      "source": [
        "### Creating an Interactive userface"
      ],
      "metadata": {
        "id": "Rq-PmzZI43pj"
      }
    },
    {
      "cell_type": "code",
      "source": [
        "# Define the Gradio interface\n",
        "with gr.Blocks() as demo:\n",
        "    gr.Markdown(\"# Image Processing App\")  # Title\n",
        "\n",
        "    with gr.Row():\n",
        "        image_input = gr.Image(type=\"pil\")  # Image upload widget\n",
        "\n",
        "    with gr.Row():\n",
        "        btn_gray = gr.Button(\"Apply Grayscale\")  # Button for grayscale\n",
        "        btn_blur = gr.Button(\"Apply Blur\")  # Button for blur\n",
        "        btn_edges = gr.Button(\"Apply Edge Detection\")  # Button for edge detection\n",
        "\n",
        "    image_output = gr.Image(type=\"pil\")  # Display processed image\n",
        "\n",
        "    # Connect buttons to functions\n",
        "    btn_gray.click(apply_grayscale, inputs=image_input, outputs=image_output)\n",
        "    btn_blur.click(apply_blur, inputs=image_input, outputs=image_output)\n",
        "    btn_edges.click(apply_edges, inputs=image_input, outputs=image_output)\n",
        "\n",
        "# Launch the Gradio app\n",
        "demo.launch(share=True)\n"
      ],
      "metadata": {
        "colab": {
          "base_uri": "https://localhost:8080/",
          "height": 611
        },
        "collapsed": true,
        "id": "RLgJLf3qz1L9",
        "outputId": "da9f1de3-7266-44ca-e4f5-5db11e06d81e"
      },
      "execution_count": 8,
      "outputs": [
        {
          "output_type": "stream",
          "name": "stdout",
          "text": [
            "Colab notebook detected. To show errors in colab notebook, set debug=True in launch()\n",
            "* Running on public URL: https://3edb7cfd155415c02a.gradio.live\n",
            "\n",
            "This share link expires in 72 hours. For free permanent hosting and GPU upgrades, run `gradio deploy` from the terminal in the working directory to deploy to Hugging Face Spaces (https://huggingface.co/spaces)\n"
          ]
        },
        {
          "output_type": "display_data",
          "data": {
            "text/plain": [
              "<IPython.core.display.HTML object>"
            ],
            "text/html": [
              "<div><iframe src=\"https://3edb7cfd155415c02a.gradio.live\" width=\"100%\" height=\"500\" allow=\"autoplay; camera; microphone; clipboard-read; clipboard-write;\" frameborder=\"0\" allowfullscreen></iframe></div>"
            ]
          },
          "metadata": {}
        },
        {
          "output_type": "execute_result",
          "data": {
            "text/plain": []
          },
          "metadata": {},
          "execution_count": 8
        }
      ]
    },
    {
      "cell_type": "markdown",
      "source": [
        "## How to Use\n",
        "1. Run all the cells in the notebook.\n",
        "2. The Gradio interface will launch in your browser.\n",
        "3. Upload an image.\n",
        "4. Click on any of the buttons to apply the respective image processing technique.\n",
        "5. View the processed image output.\n",
        "\n",
        "## Dependencies\n",
        "- Python 3.x\n",
        "- OpenCV (`cv2`)\n",
        "- NumPy\n",
        "- Torch\n",
        "- Gradio\n",
        "- PIL (Pillow)\n"
      ],
      "metadata": {
        "id": "AHpZPjyt8BBB"
      }
    }
  ]
}